{
 "cells": [
  {
   "cell_type": "code",
   "execution_count": 21,
   "metadata": {},
   "outputs": [],
   "source": [
    "class Student:\n",
    "    def __init__(self, name, surname):\n",
    "        self.name = name\n",
    "        self.surname = surname\n",
    "        self.courses_in_progress = []\n",
    "        self.grades = {}\n",
    "\n",
    "    def grades_lecturer(self, lecturer, course, grade):\n",
    "        if isinstance(lecturer, Lecturer) and course in lecturer.courses_attached:\n",
    "            if course in lecturer.grades_for_lectures:\n",
    "                lecturer.grades_for_lectures[course] += [grade]\n",
    "            else:\n",
    "                lecturer.grades_for_lectures[course] = [grade]\n",
    "        else:\n",
    "            return 'Ошибка'\n",
    "\n",
    "    def __str__(self):\n",
    "        res_n = f'''СТУДЕНТЫ:\n",
    "        Имя: {self.name}\n",
    "        Фамилия: {self.surname}\n",
    "        Средняя оценка за домашние задания:\n",
    "        Курсы в процессе изучения:\n",
    "        Завершенные курсы: '''\n",
    "        return res_n\n",
    "        \n",
    "class Mentor:\n",
    "    def __init__(self, name, surname):\n",
    "        self.name = name\n",
    "        self.surname = surname\n",
    "                \n",
    "class Lecturer(Mentor):\n",
    "    def __init__(self, name, surname):\n",
    "        super().__init__(name, surname)\n",
    "        self.courses_attached = []\n",
    "        self.grades_for_lectures = {}\n",
    "\n",
    "    def average_mark_for_lectures(self, grade):\n",
    "        \n",
    "    \n",
    "    def __str__(self):\n",
    "        res_n = f'''ЛЕКТОРЫ:\n",
    "        Имя: {self.name}\n",
    "        Фамилия: {self.surname}\n",
    "        Средняя оценка за лекции: '''\n",
    "        return res_n\n",
    "\n",
    "class Reviewer(Mentor):\n",
    "    def __init__(self, name, surname):\n",
    "        super().__init__(name, surname)\n",
    "        \n",
    "    def rate_hw(self, student, course, grade):\n",
    "        if isinstance(student, Student) and course in student.courses_in_progress:\n",
    "            if course in student.grades:\n",
    "                student.grades[course] += [grade]\n",
    "            else:\n",
    "                student.grades[course] = [grade]\n",
    "        else:\n",
    "            return 'Ошибка'\n",
    "    \n",
    "    def __str__(self):\n",
    "        res_n = f'''ПРОВЕРЯЮЩИЕ:\n",
    "        Имя: {self.name}\n",
    "        Фамилия: {self.surname}'''\n",
    "        return res_n"
   ]
  },
  {
   "cell_type": "code",
   "execution_count": 22,
   "metadata": {},
   "outputs": [
    {
     "name": "stdout",
     "output_type": "stream",
     "text": [
      "ПРОВЕРЯЮЩИЕ:\n",
      "        Имя: Some\n",
      "        Фамилия: Buddy\n",
      "ЛЕКТОРЫ:\n",
      "        Имя: Some\n",
      "        Фамилия: Buddy\n",
      "        Средняя оценка за лекции: \n",
      "СТУДЕНТЫ:\n",
      "        Имя: Ruoy\n",
      "        Фамилия: Eman\n",
      "        Средняя оценка за домашние задания:\n",
      "        Курсы в процессе изучения:\n",
      "        Завершенные курсы: \n"
     ]
    }
   ],
   "source": [
    "some_reviewer = Reviewer('Some', 'Buddy')\n",
    "print(some_reviewer)\n",
    "\n",
    "some_lecturer = Lecturer('Some', 'Buddy')\n",
    "print(some_lecturer)\n",
    "\n",
    "some_student = Student('Ruoy', 'Eman')\n",
    "print(some_student)"
   ]
  }
 ],
 "metadata": {
  "kernelspec": {
   "display_name": "Python 3.10.7 64-bit (microsoft store)",
   "language": "python",
   "name": "python3"
  },
  "language_info": {
   "codemirror_mode": {
    "name": "ipython",
    "version": 3
   },
   "file_extension": ".py",
   "mimetype": "text/x-python",
   "name": "python",
   "nbconvert_exporter": "python",
   "pygments_lexer": "ipython3",
   "version": "3.10.7"
  },
  "orig_nbformat": 4,
  "vscode": {
   "interpreter": {
    "hash": "d743b4dc9ec3684cdd86441980026b6286852b04eff304e96f02dbf5f1a15134"
   }
  }
 },
 "nbformat": 4,
 "nbformat_minor": 2
}
